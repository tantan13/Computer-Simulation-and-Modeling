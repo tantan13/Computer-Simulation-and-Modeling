{
 "cells": [
  {
   "cell_type": "markdown",
   "metadata": {},
   "source": [
    "<h1>Part 2: This part explains how to use and implement a realtime simulation GUI for PyCX for modeling crowd behaviour. You can think of this method as a way to analyze the dynamics of the BOIDS model without having to run many simulations. This part shows how our Agent.py models these behaviours and how to create one.</h1>\n",
    "\n",
    "<ul>The Boids Simulation Problem: To model swarming schooling behavior, so long as you follow these three basic rules:</ul>\n",
    "\n",
    "<li>Move in the same direction as your closest neighbors.</li>\n",
    "<li>Don’t stray off by yourself - stay close</li>\n",
    "<li>But not too close. Avoid collisions with your neighbors.</li>\n",
    "\n",
    "<h2>The phenomenon to be modeled and simulated:</h2>\n",
    "Suppose we wish to model the crowd flocking and evacuation behaviour in a population distributed with the above three basic rules. Each individual boid must move in the same direction as its closest neighbors, meaning that the model exhibits a 'follow the leader' sort of behaviour. The second rule is to not stray off by oneself, meaning the flock of boids must move in a group, combining this with the first rule gives a flock that always faces the same direction. The third rule is to not be to close as to avoid collision with other boids. These are the main things addressed in part 1.\n",
    "\n",
    "<h2>Conceptual model</h2>\n",
    "\n",
    "Separation: steer to avoid crowding local flockmates\n",
    "\n",
    "Alignment: steer towards the average heading of local flockmates\n",
    "\n",
    "Cohesion: steer to move toward the average position of local flockmates\n",
    "\n"
   ]
  },
  {
   "cell_type": "markdown",
   "metadata": {},
   "source": [
    "Let's start by importing the necessary files and creating the agent class\n",
    "\n",
    "The following code cell defines the boundaries x and y for the old and the new agent, first initialising them.\n",
    "In the Method __init__ we initialise the parameters with new values."
   ]
  },
  {
   "cell_type": "code",
   "execution_count": 1,
   "metadata": {},
   "outputs": [],
   "source": [
    "import matplotlib\n",
    "import pylab as PL\n",
    "import random as RD\n",
    "import numpy as NP\n",
    "from scipy.spatial import distance as dist\n",
    "from sklearn import preprocessing\n",
    "\n",
    "class Agent:\n",
    "    \n",
    "    posX = 0.0\n",
    "    poxY = 0.0\n",
    "    oldVelX = 0.0\n",
    "    oldVelY = 0.0\n",
    "    newVelX = 0.0\n",
    "    newVelY = 0.0\n",
    "    flock = []\n",
    "    \n",
    "    def __init__(self, posx, posy, oldvelx, oldvely, newvelx, newvely):\n",
    "        self.posX = posx\n",
    "        self.posY = posy\n",
    "        self.oldVelX = oldvelx\n",
    "        self.oldVelY = oldvely\n",
    "        self.newVelX = newvelx\n",
    "        self.newVelY = newvely"
   ]
  },
  {
   "cell_type": "markdown",
   "metadata": {},
   "source": [
    "This method takes care of finding the average position of the flock so that we can use this to implement our flocking behaviour. It is neccessary for the implementation of the align rule, which causes boids that are part of the same flock to have the same general direction. For every flockmate within the alignment range, a boid will feel a force to match its heading to that of the flockmate. If there are multiple flockmates in the alignment range, the boid tries to move towards the average direction of those flockmates. The boid in the center wants to align itself with each of these flockmates."
   ]
  },
  {
   "cell_type": "code",
   "execution_count": 2,
   "metadata": {},
   "outputs": [],
   "source": [
    "def approach(self, flock):\n",
    "        \"\"\"Get average position of the flock\"\"\"\n",
    "        distX = flock[0] / len(flock) - self.posX\n",
    "        distY = flock[1] / len(flock) - self.posY    \n",
    "        return [distX * 0.1, distY * 0.1]"
   ]
  },
  {
   "cell_type": "markdown",
   "metadata": {},
   "source": [
    "Implementation of the Align rule:\n",
    "Alignment attempts to change a boid's velocity (i.e., direction and magnitude) to match that of its nearby boids (using the same definition of \"nearby\" as before). Cohesion drives each boid towards its nearest neighbours, but there's a couple of notable problems we ran into :boids moving in substantially different directions tend to perform dramatic fly-bys, rather than \"flocking\" together: the cohesive force in the above example isn't enough to slow boids moving in opposing directions. Once the boids pass each other, they no longer \"see\" each other, so the turning stops.\n",
    "given that a boid's visible range extends mostly in its direction of travel, the cohesive forces generated will predominantly increase its speed."
   ]
  },
  {
   "cell_type": "code",
   "execution_count": 3,
   "metadata": {},
   "outputs": [],
   "source": [
    " def align(self, avgVel, populationSize):\n",
    "        \"\"\"Get average direction of flock\"\"\"\n",
    "        alignX = avgVel[0] / populationSize\n",
    "        alignY = avgVel[1] / populationSize\n",
    "\n",
    "        return [alignX, alignY]"
   ]
  },
  {
   "cell_type": "markdown",
   "metadata": {},
   "source": [
    "This method makes sure the boids do not collide: if they get too close, we redistribute theirdistance via proxVect.\n",
    "Avoidance radiaus is the radius around the agent where the proximity is deemed too close and the agent will try to move away. Suppose the member of a flock is aiming directly for the center of the obstacle object.\n",
    "1. We define P, C, r, and V as follows:\n",
    "\n",
    "P = (1, 1)\n",
    "\n",
    "C = (3, 3)\n",
    "\n",
    "r = 0.5\n",
    "\n",
    "V = (1, 1)\n",
    "\n",
    "2. Determine if a collision might occur\n",
    "\n",
    "s   = |C – P|\n",
    "\n",
    "    = |(3, 3) – (1, 1)|\n",
    "\n",
    "    = |(2, 2)|\n",
    "\n",
    "    = (22 + 22) ½\n",
    "\n",
    "      = 8½\n",
    "\n",
    "      = 2.828\n",
    "\n",
    " \n",
    "\n",
    "k   = (C – P) • V/ |V |\n",
    "\n",
    "    = ((3,3) – (1, 1)) • (1, 1)/|(1, 1)|\n",
    "\n",
    "    = (2, 2) • (1, 1)/ (12 + 12) ½\n",
    "\n",
    "    = (2, 2) • (1, 1)/ (2) ½\n",
    "\n",
    "    = (2, 2) • (0.707, 0.707)\n",
    "\n",
    "    = 1.414+ 1.414\n",
    "\n",
    "    = 2.828\n",
    "\n",
    " \n",
    "\n",
    "t   = (s2 – k2) ½\n",
    "\n",
    "                = (2.8282 – 2.8282) ½\n",
    "\n",
    "                = 0  \n",
    "\n",
    " \n",
    "\n",
    "t < r\n",
    "\n",
    "0 < 0.5 is true, so we have a hit.  In fact, we will have a hit for any radius. This would be the definition of a collision."
   ]
  },
  {
   "cell_type": "code",
   "execution_count": 4,
   "metadata": {},
   "outputs": [],
   "source": [
    "def collisions(self, ag, avoidanceRadius, agents):\n",
    "        closestRad = avoidanceRadius\n",
    "        proxVect = [self.oldVelX, self.oldVelY]\n",
    "        for other in agents:\n",
    "            if other.posX != self.posX and other.posY != self.posY:\n",
    "                distBtw = dist.euclidean([self.posX, self.posY], [other.posX, other.posY])\n",
    "                if distBtw < closestRad:\n",
    "                    #avoid that one\n",
    "                    closestRad = distBtw\n",
    "                    proxVect = [(self.posX - other.posX) * (avoidanceRadius - distBtw),\n",
    "                                (self.posY - other.posY)  * (avoidanceRadius - distBtw)]\n",
    "        return proxVect"
   ]
  },
  {
   "cell_type": "markdown",
   "metadata": {},
   "source": [
    "Forms the flock and positions them and returns their average location and velocity to keep track of their flock movement. (flocking behaviour). \n",
    "flock centering\n",
    "\n",
    "·        members try to stay as close as possible to the center of the flock or school\n",
    "\n",
    "·        centering the flock locally reduces computational complexity\n",
    "\n",
    "·        this type of tendency enables the flock to re-group if separated by the collision avoidance tendency\n"
   ]
  },
  {
   "cell_type": "code",
   "execution_count": 5,
   "metadata": {},
   "outputs": [],
   "source": [
    "def getFlock(self, agents, flockRadius):\n",
    "        \"\"\"Get average location and velocity of nearby agents\"\"\"\n",
    "        \"\"\"Get agents nearby current agent - we only care about these ones\"\"\"\n",
    "        avgLoc = [0,0]\n",
    "        avgVel = [0,0]\n",
    "        for other in agents:\n",
    "            if dist.euclidean([self.posX, self.posY], [other.posX, other.posY]) < flockRadius:\n",
    "                avgLoc[0] += other.posX\n",
    "                avgLoc[1] += other.posY\n",
    "                avgVel[0] += other.oldVelX\n",
    "                avgVel[1] += other.oldVelY\n",
    "                \n",
    "        return [avgLoc, avgVel]"
   ]
  },
  {
   "cell_type": "markdown",
   "metadata": {},
   "source": [
    "Potential Collision Detection and Avoidance\n",
    "\n",
    "- simulating the cognition (thinking) of the group members, makes them more natural appearing than the pure physics-based approach because the group members sense the environment in front of themselves and plan for it\n",
    "\n",
    "- sensing: a flock member could emit virtual “feelers” to sample the environment around itself\n",
    "- model each potentially colliding object with a bounding sphere or the silhouette edges of the collision object\n",
    "- when a potential collision is detected, run a “steer-to-avoid” procedure\n"
   ]
  },
  {
   "cell_type": "code",
   "execution_count": 6,
   "metadata": {},
   "outputs": [],
   "source": [
    "def avoidObstacles(self, obstacles, avoidanceRadius, flag):\n",
    "        closestRad = avoidanceRadius\n",
    "        proxVect = [self.oldVelX, self.oldVelY]\n",
    "        for other in obstacles:\n",
    "            if other[0] != self.posX and other[1] != self.posY:\n",
    "                distBtw = dist.euclidean([self.posX, self.posY], [other[0], other[1]])\n",
    "                if distBtw < closestRad:\n",
    "                    #avoid that one\n",
    "                    closestRad = distBtw\n",
    "                    proxVect = [(self.posX - other[0]) * (avoidanceRadius - distBtw),\n",
    "                                (self.posY - other[1])  * (avoidanceRadius - distBtw)]\n",
    "                    flag[0] = True\n",
    "        return proxVect"
   ]
  },
  {
   "cell_type": "markdown",
   "metadata": {},
   "source": [
    "Finish up Agent model and normalize"
   ]
  },
  {
   "cell_type": "code",
   "execution_count": 9,
   "metadata": {},
   "outputs": [],
   "source": [
    "def goal(self, goalPos):\n",
    "        goalVect = [0,0]\n",
    "        goalVect = self.normalize(goalPos[0]-self.posX, goalPos[1]-self.posY)\n",
    "        strength = 50000/dist.euclidean([self.posX, self.posY], [goalPos[0], goalPos[1]])\n",
    "        goalVect = [strength * goalVect[0], strength * goalVect[1]]\n",
    "        return goalVect\n",
    "    \n",
    "def normalize(self, x, y):\n",
    "    mag = float(NP.sqrt(x*x + y*y))\n",
    "    newX = x/mag\n",
    "    newY = y/mag\n",
    "    return [newX, newY]"
   ]
  }
 ],
 "metadata": {
  "kernelspec": {
   "display_name": "Python 3",
   "language": "python",
   "name": "python3"
  },
  "language_info": {
   "codemirror_mode": {
    "name": "ipython",
    "version": 3
   },
   "file_extension": ".py",
   "mimetype": "text/x-python",
   "name": "python",
   "nbconvert_exporter": "python",
   "pygments_lexer": "ipython3",
   "version": "3.7.1"
  }
 },
 "nbformat": 4,
 "nbformat_minor": 2
}
