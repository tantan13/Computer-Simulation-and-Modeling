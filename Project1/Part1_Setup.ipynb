{
 "cells": [
  {
   "cell_type": "markdown",
   "metadata": {},
   "source": [
    "<h1>Tutorial: Agent-Based Simulation of Crowd Flocking & Evacuation Behavior (BOIDS Problem)</h1>\n",
    "\n",
    "This 3-part tutorial illustrates different ways to model the of simulation of crowd evacuation behaviour, which is sometimes referred to as the BOIDS problem. The parts, in brief, are as follows:\n",
    "<ul>\n",
    "<li>Part 1 (Setup): We'll show how a working 2D BOIDS model can be modeled over a geometric region using Realtime Simulation GUI for PyCX (Copyright 2012 Chun Wong & Hiroki Sayama) </li>\n",
    "\n",
    "<li>Part 2: The agent-based simulation of crowd flocking behaviour.\n",
    "This part explains how to use and implement a realtime simulation GUI for PyCX for modeling crowd behaviour. You can think of this method as a way to analyze the dynamics of the BOIDS model without having to run many simulations. This part shows how our Agent.py models these behaviours and how to create one.</li>\n",
    "\n",
    "<li>Part 3: The agent-based simulation of evacuation behaviour</li>\n",
    "</ul>"
   ]
  },
  {
   "cell_type": "markdown",
   "metadata": {},
   "source": [
    "Part 1: A Simple Boid Simulation\n",
    "\n",
    "<h2>Conceptual model:</h2>\n",
    "\n",
    "Each boid has direct access to the whole scene's geometric description, but flocking requires that it reacts only to flockmates within a certain small neighborhood around itself. The neighborhood is characterized by a distance (measured from the center of the boid) and an angle, measured from the boid's direction of flight. Flockmates outside this local neighborhood are ignored. The neighborhood could be considered a model of limited perception (ie. birds in foggy skies) but it is probably more correct to think of it as defining the region in which flockmates influence a boids steering.\n",
    "\n",
    "This is the main program for running a flocking simulation in python\n",
    "It utilizes 2 objects: a boid (birdlike - behaving object) and a 3D Cartesian vector\n",
    "To see the objects and their respective methods, you can look at boid.py"
   ]
  },
  {
   "cell_type": "markdown",
   "metadata": {},
   "source": [
    "<h3>Setup</h3>\n",
    "Run the following code cells to get everything set up for the boid simulation"
   ]
  },
  {
   "cell_type": "code",
   "execution_count": 1,
   "metadata": {
    "scrolled": true
   },
   "outputs": [],
   "source": [
    "import matplotlib\n",
    "from IPython.display import clear_output\n",
    "%matplotlib inline\n",
    "import pylab as PL\n",
    "import random as RD\n",
    "import numpy as NP\n",
    "from scipy.spatial import distance as dist\n",
    "from Agent import Agent\n",
    "\n",
    "RD.seed()\n",
    "\n",
    "populationSize = 64\n",
    "noiseLevel = 1\n",
    "avoidanceRadius = 30\n",
    "flockRadius = 100\n",
    "boardDimension = 1000\n",
    "\n",
    "#strengths are proportion of new weight vs proportion of old weight (0-1)\n",
    "avoidanceStrength = 0.4\n",
    "approachStrength = 0.6\n",
    "alignStrength = 0.8\n",
    "totalStrength = 0.2\n",
    "\n",
    "def init():\n",
    "    global time, agents\n",
    "\n",
    "    time = 0\n",
    "        \n",
    "    agents = []\n",
    "    for i in range(populationSize):\n",
    "        row = i % 8.0\n",
    "        col = i / 8.0\n",
    "        newAgent = Agent(row*50.0+50.0, col*50.0+50.0, RD.gauss(0, noiseLevel), RD.gauss(0, noiseLevel), 0, 0)\n",
    "        agents.append(newAgent)\n",
    "\n",
    "def draw():\n",
    "    x = [ag.posX for ag in agents]\n",
    "    y = [ag.posY for ag in agents]\n",
    "    PL.axis('scaled')\n",
    "    \n",
    "    PL.cla()\n",
    "    PL.axis([0, boardDimension, 0, boardDimension])\n",
    "    PL.title('t = ' + str(time))\n",
    "    PL.plot(x, y, 'bo')\n",
    "\n",
    "    PL.pause(0.03)\n",
    "\n",
    "def step():\n",
    "    \"\"\"Update positions of each agent each time step\"\"\"\n",
    "    global time, agents\n",
    "\n",
    "    time += 1\n",
    "\n",
    "#    d = dist.euclidean([agents[0].posX, agents[0].posY], [agents[1].posX, agents[1].posY])\n",
    "#    print(d)\n",
    "\n",
    "    for ag in agents:\n",
    "        colVect = ag.collisions(ag, avoidanceRadius, agents)\n",
    "        avgLoc, avgVel = ag.getFlock(agents, flockRadius)\n",
    "        alignVect = ag.align(avgVel, populationSize)\n",
    "        apprVect = ag.approach(avgLoc)\n",
    "        \n",
    "        weightTot = avoidanceStrength + alignStrength + approachStrength\n",
    "        weights = [avoidanceStrength / weightTot, alignStrength / weightTot, approachStrength / weightTot]\n",
    "        ag.newVelX = (1 - totalStrength) * ag.oldVelX + totalStrength * (colVect[0] * weights[0] + alignVect[0] * weights[1] + apprVect[0] * weights[2])       \n",
    "        ag.newVelY = (1 - totalStrength) * ag.oldVelY + totalStrength * (colVect[1] * weights[0] + alignVect[1] * weights[1] + apprVect[1] * weights[2])\n",
    "        \n",
    "        # Update positions using new velocities\n",
    "        # Last number changes speed on screen\n",
    "        ag.posX += ag.newVelX * 0.2\n",
    "        ag.posY += ag.newVelY * 0.2\n",
    "        \n",
    "        # Wraps agents around when they leave the screen\n",
    "        # And shifts new weights to old weight position\n",
    "        for ag in agents:\n",
    "            ag.posX = ag.posX % boardDimension\n",
    "            ag.posY = ag.posY % boardDimension\n",
    "            ag.oldVelX = ag.newVelX\n",
    "            ag.oldVelY = ag.newVelY\n",
    "            \n",
    "\n",
    "    "
   ]
  },
  {
   "cell_type": "markdown",
   "metadata": {},
   "source": [
    "<h3>Start Simulation</h3>\n",
    "Run this to see the simulation in action"
   ]
  },
  {
   "cell_type": "code",
   "execution_count": 2,
   "metadata": {},
   "outputs": [
    {
     "data": {
      "image/png": "[encoded data removed]",
      "text/plain": [
       "<Figure size 432x288 with 1 Axes>"
      ]
     },
     "metadata": {
      "needs_background": "light"
     },
     "output_type": "display_data"
    },
    {
     "ename": "KeyboardInterrupt",
     "evalue": "",
     "output_type": "error",
     "traceback": [
      "\u001b[1;31m---------------------------------------------------------------------------\u001b[0m",
      "\u001b[1;31mKeyboardInterrupt\u001b[0m                         Traceback (most recent call last)",
      "\u001b[1;32m<ipython-input-2-251fb7986b5a>\u001b[0m in \u001b[0;36m<module>\u001b[1;34m\u001b[0m\n\u001b[0;32m      3\u001b[0m     \u001b[0mclear_output\u001b[0m\u001b[1;33m(\u001b[0m\u001b[0mwait\u001b[0m\u001b[1;33m=\u001b[0m\u001b[1;32mTrue\u001b[0m\u001b[1;33m)\u001b[0m\u001b[1;33m\u001b[0m\u001b[1;33m\u001b[0m\u001b[0m\n\u001b[0;32m      4\u001b[0m     \u001b[0mdraw\u001b[0m\u001b[1;33m(\u001b[0m\u001b[1;33m)\u001b[0m\u001b[1;33m\u001b[0m\u001b[1;33m\u001b[0m\u001b[0m\n\u001b[1;32m----> 5\u001b[1;33m     \u001b[0mstep\u001b[0m\u001b[1;33m(\u001b[0m\u001b[1;33m)\u001b[0m\u001b[1;33m\u001b[0m\u001b[1;33m\u001b[0m\u001b[0m\n\u001b[0m",
      "\u001b[1;32m<ipython-input-1-0dd9e48916a8>\u001b[0m in \u001b[0;36mstep\u001b[1;34m()\u001b[0m\n\u001b[0;32m     57\u001b[0m     \u001b[1;32mfor\u001b[0m \u001b[0mag\u001b[0m \u001b[1;32min\u001b[0m \u001b[0magents\u001b[0m\u001b[1;33m:\u001b[0m\u001b[1;33m\u001b[0m\u001b[1;33m\u001b[0m\u001b[0m\n\u001b[0;32m     58\u001b[0m         \u001b[0mcolVect\u001b[0m \u001b[1;33m=\u001b[0m \u001b[0mag\u001b[0m\u001b[1;33m.\u001b[0m\u001b[0mcollisions\u001b[0m\u001b[1;33m(\u001b[0m\u001b[0mag\u001b[0m\u001b[1;33m,\u001b[0m \u001b[0mavoidanceRadius\u001b[0m\u001b[1;33m,\u001b[0m \u001b[0magents\u001b[0m\u001b[1;33m)\u001b[0m\u001b[1;33m\u001b[0m\u001b[1;33m\u001b[0m\u001b[0m\n\u001b[1;32m---> 59\u001b[1;33m         \u001b[0mavgLoc\u001b[0m\u001b[1;33m,\u001b[0m \u001b[0mavgVel\u001b[0m \u001b[1;33m=\u001b[0m \u001b[0mag\u001b[0m\u001b[1;33m.\u001b[0m\u001b[0mgetFlock\u001b[0m\u001b[1;33m(\u001b[0m\u001b[0magents\u001b[0m\u001b[1;33m,\u001b[0m \u001b[0mflockRadius\u001b[0m\u001b[1;33m)\u001b[0m\u001b[1;33m\u001b[0m\u001b[1;33m\u001b[0m\u001b[0m\n\u001b[0m\u001b[0;32m     60\u001b[0m         \u001b[0malignVect\u001b[0m \u001b[1;33m=\u001b[0m \u001b[0mag\u001b[0m\u001b[1;33m.\u001b[0m\u001b[0malign\u001b[0m\u001b[1;33m(\u001b[0m\u001b[0mavgVel\u001b[0m\u001b[1;33m,\u001b[0m \u001b[0mpopulationSize\u001b[0m\u001b[1;33m)\u001b[0m\u001b[1;33m\u001b[0m\u001b[1;33m\u001b[0m\u001b[0m\n\u001b[0;32m     61\u001b[0m         \u001b[0mapprVect\u001b[0m \u001b[1;33m=\u001b[0m \u001b[0mag\u001b[0m\u001b[1;33m.\u001b[0m\u001b[0mapproach\u001b[0m\u001b[1;33m(\u001b[0m\u001b[0mavgLoc\u001b[0m\u001b[1;33m)\u001b[0m\u001b[1;33m\u001b[0m\u001b[1;33m\u001b[0m\u001b[0m\n",
      "\u001b[1;32m~\\OneDrive - Georgia Institute of Technology\\Spring 2019\\CX4230\\CX4230\\Agent.py\u001b[0m in \u001b[0;36mgetFlock\u001b[1;34m(self, agents, flockRadius)\u001b[0m\n\u001b[0;32m    103\u001b[0m         \u001b[0mavgVel\u001b[0m \u001b[1;33m=\u001b[0m \u001b[1;33m[\u001b[0m\u001b[1;36m0\u001b[0m\u001b[1;33m,\u001b[0m\u001b[1;36m0\u001b[0m\u001b[1;33m]\u001b[0m\u001b[1;33m\u001b[0m\u001b[1;33m\u001b[0m\u001b[0m\n\u001b[0;32m    104\u001b[0m         \u001b[1;32mfor\u001b[0m \u001b[0mother\u001b[0m \u001b[1;32min\u001b[0m \u001b[0magents\u001b[0m\u001b[1;33m:\u001b[0m\u001b[1;33m\u001b[0m\u001b[1;33m\u001b[0m\u001b[0m\n\u001b[1;32m--> 105\u001b[1;33m             \u001b[1;32mif\u001b[0m \u001b[0mdist\u001b[0m\u001b[1;33m.\u001b[0m\u001b[0meuclidean\u001b[0m\u001b[1;33m(\u001b[0m\u001b[1;33m[\u001b[0m\u001b[0mself\u001b[0m\u001b[1;33m.\u001b[0m\u001b[0mposX\u001b[0m\u001b[1;33m,\u001b[0m \u001b[0mself\u001b[0m\u001b[1;33m.\u001b[0m\u001b[0mposY\u001b[0m\u001b[1;33m]\u001b[0m\u001b[1;33m,\u001b[0m \u001b[1;33m[\u001b[0m\u001b[0mother\u001b[0m\u001b[1;33m.\u001b[0m\u001b[0mposX\u001b[0m\u001b[1;33m,\u001b[0m \u001b[0mother\u001b[0m\u001b[1;33m.\u001b[0m\u001b[0mposY\u001b[0m\u001b[1;33m]\u001b[0m\u001b[1;33m)\u001b[0m \u001b[1;33m<\u001b[0m \u001b[0mflockRadius\u001b[0m\u001b[1;33m:\u001b[0m\u001b[1;33m\u001b[0m\u001b[1;33m\u001b[0m\u001b[0m\n\u001b[0m\u001b[0;32m    106\u001b[0m                 \u001b[0mavgLoc\u001b[0m\u001b[1;33m[\u001b[0m\u001b[1;36m0\u001b[0m\u001b[1;33m]\u001b[0m \u001b[1;33m+=\u001b[0m \u001b[0mother\u001b[0m\u001b[1;33m.\u001b[0m\u001b[0mposX\u001b[0m\u001b[1;33m\u001b[0m\u001b[1;33m\u001b[0m\u001b[0m\n\u001b[0;32m    107\u001b[0m                 \u001b[0mavgLoc\u001b[0m\u001b[1;33m[\u001b[0m\u001b[1;36m1\u001b[0m\u001b[1;33m]\u001b[0m \u001b[1;33m+=\u001b[0m \u001b[0mother\u001b[0m\u001b[1;33m.\u001b[0m\u001b[0mposY\u001b[0m\u001b[1;33m\u001b[0m\u001b[1;33m\u001b[0m\u001b[0m\n",
      "\u001b[1;32m~\\Anaconda3\\lib\\site-packages\\scipy\\spatial\\distance.py\u001b[0m in \u001b[0;36meuclidean\u001b[1;34m(u, v, w)\u001b[0m\n\u001b[0;32m    596\u001b[0m \u001b[1;33m\u001b[0m\u001b[0m\n\u001b[0;32m    597\u001b[0m     \"\"\"\n\u001b[1;32m--> 598\u001b[1;33m     \u001b[1;32mreturn\u001b[0m \u001b[0mminkowski\u001b[0m\u001b[1;33m(\u001b[0m\u001b[0mu\u001b[0m\u001b[1;33m,\u001b[0m \u001b[0mv\u001b[0m\u001b[1;33m,\u001b[0m \u001b[0mp\u001b[0m\u001b[1;33m=\u001b[0m\u001b[1;36m2\u001b[0m\u001b[1;33m,\u001b[0m \u001b[0mw\u001b[0m\u001b[1;33m=\u001b[0m\u001b[0mw\u001b[0m\u001b[1;33m)\u001b[0m\u001b[1;33m\u001b[0m\u001b[1;33m\u001b[0m\u001b[0m\n\u001b[0m\u001b[0;32m    599\u001b[0m \u001b[1;33m\u001b[0m\u001b[0m\n\u001b[0;32m    600\u001b[0m \u001b[1;33m\u001b[0m\u001b[0m\n",
      "\u001b[1;32m~\\Anaconda3\\lib\\site-packages\\scipy\\spatial\\distance.py\u001b[0m in \u001b[0;36mminkowski\u001b[1;34m(u, v, p, w)\u001b[0m\n\u001b[0;32m    499\u001b[0m             \u001b[0mroot_w\u001b[0m \u001b[1;33m=\u001b[0m \u001b[0mnp\u001b[0m\u001b[1;33m.\u001b[0m\u001b[0mpower\u001b[0m\u001b[1;33m(\u001b[0m\u001b[0mw\u001b[0m\u001b[1;33m,\u001b[0m \u001b[1;36m1\u001b[0m\u001b[1;33m/\u001b[0m\u001b[0mp\u001b[0m\u001b[1;33m)\u001b[0m\u001b[1;33m\u001b[0m\u001b[1;33m\u001b[0m\u001b[0m\n\u001b[0;32m    500\u001b[0m         \u001b[0mu_v\u001b[0m \u001b[1;33m=\u001b[0m \u001b[0mroot_w\u001b[0m \u001b[1;33m*\u001b[0m \u001b[0mu_v\u001b[0m\u001b[1;33m\u001b[0m\u001b[1;33m\u001b[0m\u001b[0m\n\u001b[1;32m--> 501\u001b[1;33m     \u001b[0mdist\u001b[0m \u001b[1;33m=\u001b[0m \u001b[0mnorm\u001b[0m\u001b[1;33m(\u001b[0m\u001b[0mu_v\u001b[0m\u001b[1;33m,\u001b[0m \u001b[0mord\u001b[0m\u001b[1;33m=\u001b[0m\u001b[0mp\u001b[0m\u001b[1;33m)\u001b[0m\u001b[1;33m\u001b[0m\u001b[1;33m\u001b[0m\u001b[0m\n\u001b[0m\u001b[0;32m    502\u001b[0m     \u001b[1;32mreturn\u001b[0m \u001b[0mdist\u001b[0m\u001b[1;33m\u001b[0m\u001b[1;33m\u001b[0m\u001b[0m\n\u001b[0;32m    503\u001b[0m \u001b[1;33m\u001b[0m\u001b[0m\n",
      "\u001b[1;31mKeyboardInterrupt\u001b[0m: "
     ]
    }
   ],
   "source": [
    "init()\n",
    "while(True):\n",
    "    clear_output(wait=True)\n",
    "    draw()\n",
    "    step()"
   ]
  },
  {
   "cell_type": "code",
   "execution_count": null,
   "metadata": {},
   "outputs": [],
   "source": []
  }
 ],
 "metadata": {
  "kernelspec": {
   "display_name": "Python 3",
   "language": "python",
   "name": "python3"
  },
  "language_info": {
   "codemirror_mode": {
    "name": "ipython",
    "version": 3
   },
   "file_extension": ".py",
   "mimetype": "text/x-python",
   "name": "python",
   "nbconvert_exporter": "python",
   "pygments_lexer": "ipython3",
   "version": "3.7.1"
  }
 },
 "nbformat": 4,
 "nbformat_minor": 2
}
